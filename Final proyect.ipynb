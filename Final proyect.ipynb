#%%
# Final proyect: Pillow, Tesseract and OpenCV
# Created at: 11-10-2020
# Last modification: 13-10-2020
# Made by: Isaac Da Pena
#%%

import zipfile
import pytesseract
import cv2 as cv
import numpy as np
import zipfile
import io
import numpy
from PIL import Image, ImageDraw

def processZipFile(zipName):
    dic = {}
    try:
        ziphandler = zipfile.ZipFile(zipName)
    except:
        print('File unavalible!')
        return
    # loop over the filenames: 
    for fileName in ziphandler.namelist():    
        print('Processing:', fileName)
        # Extract file from zip in memory
        getImg = ziphandler.read(fileName)
        # Get a file handler for the image
        fh = io.BytesIO(getImg)
        # Convert to a pillow image
        img = Image.open(fh)
        dic[fileName] = {'image': img}
    return dic

def getTextAndFaces(dic, word):
    newDic = {}
    face_cascade = cv.CascadeClassifier('readonly/haarcascade_frontalface_default.xml')
    for image in dic:
        gray = cv.cvtColor(numpy.array(dic[image]['image']), cv.COLOR_BGR2GRAY)        
        binText = Image.fromarray(cv.adaptiveThreshold(gray, 255,cv.ADAPTIVE_THRESH_GAUSSIAN_C, cv.THRESH_BINARY,11,2)) 
        text = pytesseract.image_to_string(binText)
        if word in text:
            faces = face_cascade.detectMultiScale(gray, minNeighbors=7, scaleFactor=1.2)
            newDic[image] = {'image': dic[image]['image'], 'text': text, 'faces': faces}
    return newDic
        
def lst2ContactSheet(lst, width=100, height=100):
    if len(lst) == 0:
        return None
    if len(lst) < 5:
        times = 1
    else:
        times = len(lst) // 5 + 1
    contact_sheet = Image.new(lst[0].mode, (width*5,height*times))
    x,y = 0, 0
    for img in lst:
        contact_sheet.paste(img, (x, y))
        if x + width == contact_sheet.width:
            x = 0
            y = y + 100
        else:
            x = x + 100     
    return contact_sheet 

def cropFaces(dic):
    contact_sheets = {}
    MAX_SIZE = (100, 100) 
    for image in dic:
        lst = []
        print(image) 
        if len(dic[image]['faces']) > 0:
            for x, y, w, h in dic[image]['faces']:
                lst.append(dic[image]['image'].crop((x, y,x + w, y + h)))
            for i in lst:
                i.thumbnail(MAX_SIZE)
            contact_sheets[image] = {'image': lst2ContactSheet(lst), 'found': True}
        else:
            contact_sheets[image] = {'image': None, 'found': False}
    return contact_sheets     

def printContact(cS):
    for image in cS:
        print(image)
        if(cS[image]['found']):
            print("Results found in file", image)
            display(cS[image]['image'])
        else:
            print("Found, but no faces at: ", image)
    
dic = processZipFile('readonly/images.zip')
dic = getTextAndFaces(dic, 'Mark')
contact_sheets = cropFaces(dic)
printContact(contact_sheets)
