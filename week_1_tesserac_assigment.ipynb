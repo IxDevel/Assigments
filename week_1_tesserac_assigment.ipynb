#%%
# Week 1 assignment: Tesseract
# Created at: 09-10-2020
# Last modification: 09-10-2020
# Made by: Isaac Da Pena
#%%
# Dependences:
import PIL
from IPython.core.display import display
from PIL import Image
from PIL import ImageFont, ImageDraw
#%%
# Definitions:
# read image and convert to RGB
im=Image.open("readonly/msi_recruitment.gif")
im=im.convert('RGB')

# font definitions
font_path = 'readonly/fanwood-webfont.ttf'
font_size = 75
font = PIL.ImageFont.truetype(font=font_path, size=60, index=0, encoding='unic', layout_engine=None)
message = 'channel {} intensity {}'

# New expanded image
img=PIL.Image.new(im.mode, (im.width,im.height+font_size))
img.paste(im, (0,0))

#%%
# build a list of 9 images with different RGB bands configurations
images=[]
for band in range(3):
    for factor in [0.1, 0.5, 0.9]:
        ig = img.copy()
        draw = ImageDraw.Draw(ig)
        draw.text((0,ig.height-60), message.format(band, factor), font=font)
        bands = ig.split()
        out = bands[band].point(lambda i: i * factor)
        bands[band].paste(out, None, None)
        images.append(Image.merge(im.mode, bands))
   
#%%     
# create a contact sheet from different brightnesses
first_image=images[0]
contact_sheet=PIL.Image.new(first_image.mode, (first_image.width*3,first_image.height*3))
y=0
x=0
for img in images:
    # Lets paste the current image into the contact sheet
    contact_sheet.paste(img, (x, y))
    # Now we update our X position. If it is going to be the width of the image, then we set it to 0
    # and update Y as well to point to the next "line" of the contact sheet.
    if x+first_image.width == contact_sheet.width:
        x=0
        y=y+first_image.height
    else:
        x=x+first_image.width

#%%
# resize and display the contact sheet
contact_sheet = contact_sheet.resize((int(contact_sheet.width/2),int(contact_sheet.height/2) ))
display(contact_sheet)
# contact_sheet.save('assigment.pdf')
